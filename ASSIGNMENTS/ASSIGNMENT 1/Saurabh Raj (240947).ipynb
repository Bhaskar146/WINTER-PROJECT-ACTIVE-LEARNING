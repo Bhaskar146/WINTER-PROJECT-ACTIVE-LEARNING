{
 "cells": [
  {
   "cell_type": "markdown",
   "metadata": {},
   "source": [
    "# Question 1: Control Flow and Loops \n",
    "'''\n",
    "Write a Python function to generate the first N Fibonacci numbers. Test the                   \n",
    "function with N = 10. \n",
    "'''"
   ]
  },
  {
   "cell_type": "code",
   "execution_count": null,
   "metadata": {},
   "outputs": [],
   "source": [
    "def fibonacci(n):\n",
    "    if (n<0):\n",
    "        print(\"Enter a valid input\")\n",
    "    x=0\n",
    "    y=1\n",
    "    for _ in range(n):\n",
    "     print(x, end = \" \")\n",
    "     x,y=y,x+y\n",
    "\n",
    "num = int(input(\"Enter number of terms: \"))\n",
    "print(fibonacci(num))"
   ]
  },
  {
   "cell_type": "markdown",
   "metadata": {},
   "source": [
    " # Question 2: List and Dictionary Comprehension \n",
    "'''\n",
    "Create a list of squares of numbers from 1 to 20 using list comprehension. Then, create \n",
    "a dictionary where the keys are numbers from 1 to 10, and the values are their cubes \n",
    "using dictionary comprehension. \n",
    "'''"
   ]
  },
  {
   "cell_type": "code",
   "execution_count": null,
   "metadata": {},
   "outputs": [],
   "source": [
    "list = [i*i for i in range(21) ]\n",
    "print(list)\n",
    "\n",
    "dict = {n:n**3 for n in range(1,11)}\n",
    "print(dict)"
   ]
  },
  {
   "cell_type": "markdown",
   "metadata": {},
   "source": [
    "#  Question 3: File Handling \n",
    "'''\n",
    "Write a Python script to create a CSV file named data.csv with three columns: Name, \n",
    "Age, and Score. Write at least five rows of data, then read the file and print the rows \n",
    "where the score is above 75. \n",
    "'''"
   ]
  },
  {
   "cell_type": "markdown",
   "metadata": {},
   "source": [
    "# Question 4: Array Operations \n",
    "'''\n",
    "Create a 1D NumPy array of 25 random integers between 10 and 100. Perform the \n",
    "following: \n",
    "• Find the maximum, minimum, and their indices. \n",
    "• Replace all odd numbers in the array with -1. \n",
    "'''"
   ]
  },
  {
   "cell_type": "code",
   "execution_count": null,
   "metadata": {},
   "outputs": [],
   "source": [
    "import numpy as np\n",
    "# Create a 1D NumPy array of 25 random integers between 10 and 100\n",
    "arr = np.random.randint(10, 101, size=25)\n",
    "\n",
    "max= arr.max()\n",
    "min = arr.min()\n",
    "max_index = arr.argmax()\n",
    "min_index = arr.argmin()\n",
    "# Now Replace all odd numbers in the array with -1\n",
    "modified_arr = np.where(arr % 2 == 1, -1,arr)\n",
    "\n",
    "print(\"Original array:\", arr)\n",
    "print(\"Maximum :\", max, \"at index:\", max_index)\n",
    "print(\"Minimum :\", min, \"at index:\", min_index)\n",
    "print(\"Modified arr:\", modified_arr)"
   ]
  },
  {
   "cell_type": "markdown",
   "metadata": {},
   "source": [
    "# Question 5: Matrix Manipulation \n",
    "'''\n",
    "Create a 5x5 matrix with random numbers. Perform the following: \n",
    "• Extract the diagonal elements. \n",
    "• Calculate the sum of all elements above the main diagonal.\n",
    "'''"
   ]
  },
  {
   "cell_type": "code",
   "execution_count": null,
   "metadata": {},
   "outputs": [],
   "source": [
    "import numpy as np\n",
    "# Create a 5x5 matrix with random numbers\n",
    "matrix = np.random.randint(0,1000,size=(5, 5))\n",
    "\n",
    "diagonal_elements = np.diag(matrix)    \n",
    "sum = np.sum(np.triu(matrix, k=1))       # Calculate the sum of all elements above the main diagonal basically upper triangular matrix.\n",
    "\n",
    "print(matrix)\n",
    "print(\"\\nDiagonal elements:\", diagonal_elements)\n",
    "print(\"Sum of elements above the diagonal:\", sum)"
   ]
  },
  {
   "cell_type": "markdown",
   "metadata": {},
   "source": [
    "# Question 6: Statistical Functions \n",
    "'''\n",
    "Generate a 3D NumPy array of shape (3, 4, 5) with random floats. Perform the following: \n",
    "• Calculate the mean, median, and standard deviation of the entire array. \n",
    "• Normalize the array by subtracting the mean and dividing by the standard \n",
    "deviation.\n",
    "'''"
   ]
  },
  {
   "cell_type": "code",
   "execution_count": null,
   "metadata": {},
   "outputs": [],
   "source": [
    "import numpy as np\n",
    "# To create a 3D numpy array of shape (3,4,5) with random floats.\n",
    "arr = np.random.rand(3,4,5)\n",
    "mean = np.mean(arr)\n",
    "median = np.median(arr)\n",
    "std_dev  = np.std(arr)\n",
    "\n",
    "normalize_arr = (arr - mean )/std_dev\n",
    "\n",
    "print(arr)\n",
    "print(\"Mean :\", mean)\n",
    "print(\"Median :\", median)\n",
    "print(\"Standard deviation:\", std_dev)\n",
    "print(normalize_arr)"
   ]
  },
  {
   "cell_type": "markdown",
   "metadata": {},
   "source": [
    "# Question 7: Broadcasting and Indexing \n",
    "'''\n",
    "Create two 2D arrays of shape (4, 4) and (4, 1). Use broadcasting to add these arrays \n",
    "element-wise and display the result.\n",
    "'''"
   ]
  },
  {
   "cell_type": "code",
   "execution_count": null,
   "metadata": {},
   "outputs": [],
   "source": [
    "import numpy as np\n",
    "\n",
    "arr1 = np.random.randint(0,100,size=[4,4])\n",
    "arr2 = np.random.randint(0,100,size=[4,1])\n",
    "result = arr1 + arr2      # Use broadcasting to add these 2D arrays\n",
    "\n",
    "print(\"\\nArray 1:\",arr1)\n",
    "print(\"\\nArray 2:\",arr2)\n",
    "print(result)"
   ]
  },
  {
   "cell_type": "markdown",
   "metadata": {},
   "source": [
    "# Question 8: DataFrame Creation and Basic Operations \n",
    "'''\n",
    "Create a Pandas DataFrame with three columns: Product, Price, and Quantity. Populate \n",
    "it with at least 8 rows. Perform the following: \n",
    "• Calculate the total value for each product (Price × Quantity). \n",
    "• Add a new column for the total value and sort the DataFrame by this column.\n",
    "''' "
   ]
  },
  {
   "cell_type": "code",
   "execution_count": null,
   "metadata": {},
   "outputs": [],
   "source": [
    "import pandas as pd\n",
    "\n",
    "data = {\n",
    "  \"Product\": ['P1','P2','P3','P4','P5','P6','P7','P8'],\n",
    "  \"Price\": [50,45,35,60,80,20,65,45],\n",
    "  \"Quantity\":[12,8,6,10,5,4,6,10],\n",
    "}\n",
    "df = pd.DataFrame(data)\n",
    "print(df)\n",
    "\n",
    "\n",
    "df[\"Total_Value\"] = df[\"Price\"] * df[\"Quantity\"]\n",
    "df_sorted = df.sort_values(by=\"Total_Value\", ascending=False) # Arranging them in a sequence\n",
    "print(df_sorted)\n"
   ]
  },
  {
   "cell_type": "markdown",
   "metadata": {},
   "source": [
    "# Question 9: Data Filtering \n",
    "'''\n",
    "Load the Titanic dataset from the Kaggle Titanic dataset or any publicly available \n",
    "source. Filter and display rows where: \n",
    "• The passenger age is below 18. \n",
    "• The passenger is female and survived.\n",
    "'''"
   ]
  },
  {
   "cell_type": "code",
   "execution_count": null,
   "metadata": {},
   "outputs": [],
   "source": [
    "import pandas as pd\n",
    "\n",
    "df = pd.read_csv('titanic.csv')\n",
    "passengers_below_18 = df[df['Age'] < 18]\n",
    "females_survived = df[(df['Sex'] == 'female') & (df['Survived'] == 1)]\n",
    "\n",
    "print(passengers_below_18)\n",
    "print(females_survived)\n"
   ]
  },
  {
   "cell_type": "markdown",
   "metadata": {},
   "source": [
    "# Question10: Groupby Operations \n",
    "'''\n",
    "Load the Iris dataset from Seaborn library or any other source like Kaggle, etc. Group the \n",
    "data by species and calculate the mean of petal length and sepal width for each group. \n",
    "'''"
   ]
  },
  {
   "cell_type": "markdown",
   "metadata": {},
   "source": [
    " # Question 11: Handling Missing Values \n",
    "'''\n",
    "Create a Pandas DataFrame with random data and intentionally introduce NaN values. \n",
    "Replace the NaN values with the column mean and display the updated DataFrame. \n",
    "'''"
   ]
  },
  {
   "cell_type": "code",
   "execution_count": null,
   "metadata": {},
   "outputs": [],
   "source": [
    "import seaborn as sns\n",
    "import pandas as pd\n",
    "\n",
    "iris = sns.load_dataset('iris')\n",
    "grouped_data = iris.groupby('species')[['petal_length', 'sepal_width']].mean()\n",
    "\n",
    "print(\"Mean of petal length and sepal width grouped by species:\")\n",
    "print(grouped_data)"
   ]
  },
  {
   "cell_type": "markdown",
   "metadata": {},
   "source": [
    "# Question 12: Merging DataFrames \n",
    "'''\n",
    "Create two DataFrames: one with columns ID and Name, and another with columns ID \n",
    "and Score. Merge the two DataFrames on the ID column and display the resulting \n",
    "DataFrame. \n",
    "'''"
   ]
  },
  {
   "cell_type": "code",
   "execution_count": null,
   "metadata": {},
   "outputs": [],
   "source": [
    "import pandas as pd\n",
    "\n",
    "df1 = pd.DataFrame({\n",
    "    \"Id\": [1, 2, 3, 4, 5],\n",
    "    \"Name\": [\"A\", \"B\", \"C\", \"D\", \"E\"]\n",
    "})\n",
    "df2 = pd.DataFrame({\n",
    "    \"Id\": [1, 2, 3, 4, 5],\n",
    "    \"Score\": [85, 92, 78, 88, 95]\n",
    "})\n",
    "merged_df = pd.merge(df1, df2, on=\"Id\")\n",
    "print(merged_df)\n"
   ]
  },
  {
   "cell_type": "markdown",
   "metadata": {},
   "source": [
    "# Question 13: Line Plot \n",
    "'''\n",
    "Generate a random dataset representing the monthly revenue of a company. Plot a line \n",
    "graph to show the trend, and customize it with: \n",
    "• A title, labeled axes, and a legend. \n",
    "'''"
   ]
  },
  {
   "cell_type": "code",
   "execution_count": null,
   "metadata": {},
   "outputs": [],
   "source": [
    "import matplotlib.pyplot as plt\n",
    "import numpy as np\n",
    "\n",
    "months = np.arange(1,13)\n",
    "revenue = np.random.randint(50000,90000,size=(12))\n",
    "plt.plot(months,revenue,label =\"Monthly Revenue\",marker = '*')\n",
    "plt.title(\"Monthly Revenue Of Company\")\n",
    "plt.xlabel(\"Monthly Revenue\")\n",
    "plt.ylabel(\"Months\")\n",
    "plt.legend()\n",
    "\n",
    "plt.show()"
   ]
  },
  {
   "cell_type": "markdown",
   "metadata": {},
   "source": [
    "# Question 14: Bar Plot \n",
    "'''\n",
    "Create a dataset representing the sales of five products in two different regions. Use a \n",
    "grouped bar chart to display the comparison between the regions for each product. \n",
    "Ensure that the plot is customized with: \n",
    "• A title, labeled axes, and a legend.\n",
    "'''"
   ]
  },
  {
   "cell_type": "code",
   "execution_count": null,
   "metadata": {},
   "outputs": [],
   "source": [
    "import matplotlib.pyplot as plt\n",
    "import numpy as np\n",
    "\n",
    "products = ['A','B','C','D','E']\n",
    "region1 = np.random.randint(100, 500, size=5)  # Sales for region 1\n",
    "region2 = np.random.randint(100, 500, size=5)  # Sales for region 2\n",
    "\n",
    "x = np.arange(len(products))  \n",
    "width = 0.35  \n",
    "\n",
    "ax = plt.subplot()\n",
    "bars1 = ax.bar(x - width/2, region1, width, label='Region 1', color='b')\n",
    "bars2 = ax.bar(x + width/2, region2, width, label='Region 2', color='g')\n",
    "\n",
    "ax.set_title('Sales Comparison by Product and Region')\n",
    "ax.set_xlabel('Products')\n",
    "ax.set_ylabel('Sales')\n",
    "ax.set_xticks(x)\n",
    "ax.set_xticklabels(products)\n",
    "ax.legend()\n",
    "plt.show()\n"
   ]
  }
 ],
 "metadata": {
  "kernelspec": {
   "display_name": "Python 3",
   "language": "python",
   "name": "python3"
  },
  "language_info": {
   "codemirror_mode": {
    "name": "ipython",
    "version": 3
   },
   "file_extension": ".py",
   "mimetype": "text/x-python",
   "name": "python",
   "nbconvert_exporter": "python",
   "pygments_lexer": "ipython3",
   "version": "3.13.0"
  }
 },
 "nbformat": 4,
 "nbformat_minor": 2
}
