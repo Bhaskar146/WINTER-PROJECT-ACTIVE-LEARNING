{
 "cells": [
  {
   "cell_type": "markdown",
   "id": "944ff335-db01-4f5d-a674-25af0f31faca",
   "metadata": {},
   "source": [
    "# Assignment 1"
   ]
  },
  {
   "cell_type": "markdown",
   "id": "cd504c6d-14e6-4dd4-874a-156d8e81b84d",
   "metadata": {},
   "source": [
    "**Q1**"
   ]
  },
  {
   "cell_type": "code",
   "execution_count": 1,
   "id": "1b4acf7f-ee88-429c-bcde-ec7363990917",
   "metadata": {
    "scrolled": true
   },
   "outputs": [
    {
     "name": "stdout",
     "output_type": "stream",
     "text": [
      "0\n",
      "1\n",
      "1\n",
      "2\n",
      "3\n",
      "5\n",
      "8\n",
      "13\n",
      "21\n",
      "34\n"
     ]
    }
   ],
   "source": [
    "def fibo(N):\n",
    "    if N==1:\n",
    "        return 0\n",
    "    elif N==2: \n",
    "        return 1\n",
    "    return fibo(N-1)+fibo(N-2)\n",
    "   \n",
    "N=10\n",
    "for i in range(1,N+1):\n",
    "    print(fibo(i))"
   ]
  },
  {
   "cell_type": "markdown",
   "id": "0e864eb9-4bea-4a5e-961b-6b8dcb63da3e",
   "metadata": {},
   "source": [
    "**Q2**"
   ]
  },
  {
   "cell_type": "code",
   "execution_count": 2,
   "id": "8b883101-693a-44b9-ac9e-e578182fa37a",
   "metadata": {},
   "outputs": [
    {
     "name": "stdout",
     "output_type": "stream",
     "text": [
      "{1: 1, 2: 8, 3: 27, 4: 64, 5: 125, 6: 216, 7: 343, 8: 512, 9: 729, 10: 1000}\n"
     ]
    }
   ],
   "source": [
    "square_list=[i*i for i in range(1,21)]\n",
    "\n",
    "cube={i:i*i*i for i in range(1,11)}\n",
    "print(cube)"
   ]
  },
  {
   "cell_type": "markdown",
   "id": "b7a297c5-fc92-4d5a-8108-eb8f5173242f",
   "metadata": {},
   "source": [
    "**Q3**"
   ]
  },
  {
   "cell_type": "code",
   "execution_count": 3,
   "id": "be40315e-d298-4346-83c4-6c532eed6b58",
   "metadata": {},
   "outputs": [
    {
     "name": "stdout",
     "output_type": "stream",
     "text": [
      "{'Name': 'Doremon', 'Age': '25', 'Score': '88'}\n",
      "{'Name': 'Sezuka', 'Age': '23', 'Score': '91'}\n",
      "{'Name': 'Suneo', 'Age': '21', 'Score': '79'}\n"
     ]
    }
   ],
   "source": [
    "import csv\n",
    "\n",
    "data = [\n",
    "    {\"Name\": \"Doremon\", \"Age\": 25, \"Score\": 88},\n",
    "    {\"Name\": \"Nobita\", \"Age\": 22, \"Score\": 72},\n",
    "    {\"Name\": \"Sezuka\", \"Age\": 23, \"Score\": 91},\n",
    "    {\"Name\": \"Gian\", \"Age\": 24, \"Score\": 65},\n",
    "    {\"Name\": \"Suneo\", \"Age\": 21, \"Score\": 79}\n",
    "]\n",
    "\n",
    "with open('data.csv', mode='w', newline='') as file:\n",
    "    writer = csv.DictWriter(file, fieldnames=[\"Name\", \"Age\", \"Score\"])\n",
    "    writer.writeheader()\n",
    "    writer.writerows(data)\n",
    "\n",
    "with open('data.csv', mode='r') as file:\n",
    "    x = csv.DictReader(file)\n",
    "    for i in x:\n",
    "        if int(i[\"Score\"]) > 75:\n",
    "            print(i)\n"
   ]
  },
  {
   "cell_type": "markdown",
   "id": "afe8ea0e-3d02-485d-9a81-6b4deb90d83f",
   "metadata": {},
   "source": [
    "**Q4**"
   ]
  },
  {
   "cell_type": "code",
   "execution_count": 4,
   "id": "be72364c-e06b-4f2a-9ae3-1526cb61e25a",
   "metadata": {},
   "outputs": [
    {
     "name": "stdout",
     "output_type": "stream",
     "text": [
      "Array: [13 80 49 65 11 85 47 41 49 27 69 55 42 82 69 85 91 19 15 82 66 18 41 43\n",
      " 42]\n",
      "Maximum value: 91\n",
      "maximum value index: 16\n",
      "Minimum value: 11\n",
      "minimum value index: 4\n",
      "Array with odd numbers replaced by -1: [-1 80 -1 -1 -1 -1 -1 -1 -1 -1 -1 -1 42 82 -1 -1 -1 -1 -1 82 66 18 -1 -1\n",
      " 42]\n"
     ]
    }
   ],
   "source": [
    "import numpy as np\n",
    "\n",
    "arr = np.random.randint(10, 101, size=25)\n",
    "\n",
    "print(\"Array:\", arr)\n",
    "x = np.max(arr)\n",
    "y = np.min(arr)\n",
    "\n",
    "maxI = np.argmax(arr)\n",
    "minI = np.argmin(arr)\n",
    "\n",
    "print(\"Maximum value:\",x)\n",
    "print(\"maximum value index:\", maxI)\n",
    "\n",
    "print(\"Minimum value:\",y)\n",
    "print(\"minimum value index:\", minI)\n",
    "\n",
    "arr[arr%2!= 0] = -1\n",
    "print(\"Array with odd numbers replaced by -1:\", arr)\n"
   ]
  },
  {
   "cell_type": "markdown",
   "id": "d3abd433-4556-4203-8b01-99a067ff5d56",
   "metadata": {},
   "source": [
    "**Q5**"
   ]
  },
  {
   "cell_type": "code",
   "execution_count": 5,
   "id": "969f1392-bf4a-4073-8468-1f5a5841ff73",
   "metadata": {},
   "outputs": [
    {
     "name": "stdout",
     "output_type": "stream",
     "text": [
      "Matrix:\n",
      " [[85 13  5 90 63]\n",
      " [14 27 73 28 73]\n",
      " [84 33 88 28 44]\n",
      " [50 78 23 58 54]\n",
      " [36 52 80 72  7]]\n",
      "Diagonal Elements: [85 27 88 58  7]\n",
      "Sum of elements above the main diagonal: 471\n"
     ]
    }
   ],
   "source": [
    "import numpy as np\n",
    "\n",
    "mat = np.random.randint(1, 100, size=(5, 5))\n",
    "diagonal = np.diag(mat)\n",
    "print(\"Matrix:\\n\", mat)\n",
    "\n",
    "print(\"Diagonal Elements:\", diagonal)\n",
    "\n",
    "sum= np.sum(np.triu(mat, k=1))\n",
    "print(\"Sum of elements above the main diagonal:\", sum)\n"
   ]
  },
  {
   "cell_type": "markdown",
   "id": "15e84681-3a1d-4c14-aa93-1eac6e757bec",
   "metadata": {},
   "source": [
    "**Q6**"
   ]
  },
  {
   "cell_type": "code",
   "execution_count": 6,
   "id": "d40044a6-1a66-497c-8ae9-bfcc688c0daf",
   "metadata": {},
   "outputs": [
    {
     "name": "stdout",
     "output_type": "stream",
     "text": [
      "Array:\n",
      " [[[0.56248726 0.34381461 0.08283418 0.99871633 0.07443255]\n",
      "  [0.737383   0.28893792 0.56933076 0.61207691 0.60946258]\n",
      "  [0.88464221 0.33358687 0.85121468 0.93328514 0.05272139]\n",
      "  [0.42014292 0.61724603 0.91562099 0.50846192 0.47691269]]\n",
      "\n",
      " [[0.27479609 0.96163857 0.84924178 0.00891757 0.6639764 ]\n",
      "  [0.66049608 0.4752016  0.41284539 0.44344716 0.04224106]\n",
      "  [0.56935542 0.29772277 0.54615045 0.23030574 0.92588362]\n",
      "  [0.93011843 0.48625022 0.21479892 0.89399748 0.31266784]]\n",
      "\n",
      " [[0.93404783 0.54657414 0.87840291 0.58859793 0.82057097]\n",
      "  [0.88718443 0.65943701 0.13072683 0.55206429 0.07936952]\n",
      "  [0.45999718 0.58374139 0.61694157 0.54789121 0.9116209 ]\n",
      "  [0.84400393 0.66716337 0.88897969 0.24908383 0.41522451]]]\n",
      "Mean: 0.5555831158273222\n",
      "Median: 0.5659090102378987\n",
      "Standard Deviation: 0.2773122697781943\n",
      "Normal Array:\n",
      " [[[ 0.02489665 -0.76364635 -1.70475304  1.59795746 -1.73504969]\n",
      "  [ 0.65557824 -0.96153409  0.04957459  0.20371907  0.19429166]\n",
      "  [ 1.18660128 -0.80052802  1.06606016  1.36200979 -1.81334108]\n",
      "  [-0.48840319  0.22235913  1.2983121  -0.16992106 -0.28368895]]\n",
      "\n",
      " [[-1.01253013  1.46425346  1.0589458  -1.97129952  0.39087084]\n",
      "  [ 0.37832065 -0.28985922 -0.51471838 -0.4043671  -1.85113359]\n",
      "  [ 0.04966351 -0.92985554 -0.03401459 -1.17296424  1.33531958]\n",
      "  [ 1.35059048 -0.2500174  -1.2288825   1.22033677 -0.87596295]]\n",
      "\n",
      " [[ 1.36476008 -0.03248676  1.16410211  0.11905285  0.95555763]\n",
      "  [ 1.19576864  0.37450162 -1.53205008 -0.01268905 -1.71724677]\n",
      "  [-0.344687    0.10153997  0.22126125 -0.02773734  1.28388759]\n",
      "  [ 1.0400579   0.40236321  1.20224241 -1.10524964 -0.50613918]]]\n"
     ]
    }
   ],
   "source": [
    "import numpy as np\n",
    "\n",
    "arr = np.random.random((3, 4, 5))\n",
    "\n",
    "print(\"Array:\\n\", arr)\n",
    "mean = np.mean(arr)\n",
    "median = np.median(arr)\n",
    "std_dev = np.std(arr)\n",
    "\n",
    "print(\"Mean:\", mean)\n",
    "print(\"Median:\", median)\n",
    "print(\"Standard Deviation:\", std_dev)\n",
    "normal_arr = (arr - mean) / std_dev\n",
    "\n",
    "print(\"Normal Array:\\n\", normal_arr)\n"
   ]
  },
  {
   "cell_type": "markdown",
   "id": "96de58c8-ad8a-4826-915d-981522271ea5",
   "metadata": {},
   "source": [
    "**Q7**"
   ]
  },
  {
   "cell_type": "code",
   "execution_count": 7,
   "id": "2998246c-65e9-452e-a1d9-79e9b59650e4",
   "metadata": {},
   "outputs": [
    {
     "name": "stdout",
     "output_type": "stream",
     "text": [
      "Array1 (4x4):\n",
      " [[10  5 14  1]\n",
      " [ 2 14 11  1]\n",
      " [ 2 13  6  7]\n",
      " [ 5 12  9  8]]\n",
      "Array2 (4x1):\n",
      " [[11]\n",
      " [ 4]\n",
      " [ 1]\n",
      " [ 1]]\n",
      "Result of Broadcasting Addition:\n",
      " [[21 16 25 12]\n",
      " [ 6 18 15  5]\n",
      " [ 3 14  7  8]\n",
      " [ 6 13 10  9]]\n"
     ]
    }
   ],
   "source": [
    "import numpy as np\n",
    "\n",
    "arr1 = np.random.randint(1, 15, size=(4, 4))\n",
    "\n",
    "arr2 = np.random.randint(1, 15, size=(4, 1))\n",
    "res = arr1 + arr2\n",
    "print(\"Array1 (4x4):\\n\", arr1)\n",
    "print(\"Array2 (4x1):\\n\", arr2)\n",
    "\n",
    "\n",
    "print(\"Result of Broadcasting Addition:\\n\", res)\n"
   ]
  },
  {
   "cell_type": "code",
   "execution_count": null,
   "id": "1b23c8f3-c735-4022-9ed4-b3f08ce1d521",
   "metadata": {},
   "outputs": [],
   "source": []
  }
 ],
 "metadata": {
  "kernelspec": {
   "display_name": "Python 3 (ipykernel)",
   "language": "python",
   "name": "python3"
  },
  "language_info": {
   "codemirror_mode": {
    "name": "ipython",
    "version": 3
   },
   "file_extension": ".py",
   "mimetype": "text/x-python",
   "name": "python",
   "nbconvert_exporter": "python",
   "pygments_lexer": "ipython3",
   "version": "3.13.1"
  }
 },
 "nbformat": 4,
 "nbformat_minor": 5
}
