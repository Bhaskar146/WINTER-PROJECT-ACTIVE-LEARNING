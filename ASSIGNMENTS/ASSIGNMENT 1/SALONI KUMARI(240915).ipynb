{
 "cells": [
  {
   "cell_type": "markdown",
   "metadata": {},
   "source": [
    "# Question 1: Control Flow and Loops\n",
    "\"\"\"\n",
    "Write a Python function to generate the first N Fibonacci numbers. Test the\n",
    "function with N = 10.\n",
    "\"\"\"\n",
    "\n",
    " "
   ]
  },
  {
   "cell_type": "code",
   "execution_count": null,
   "metadata": {},
   "outputs": [],
   "source": [
    "def fibonacci(n):\n",
    "    \n",
    "    if n <= 0:\n",
    "        return []\n",
    "    elif n == 1:\n",
    "        return [0]\n",
    "    elif n == 2:\n",
    "        return [0, 1]\n",
    "\n",
    "    fibonacci_sequence = [0, 1]\n",
    "    while len(fibonacci_sequence) < n:\n",
    "        fibonacci_sequence.append(fibonacci_sequence[-1] + fibonacci_sequence[-2])\n",
    "\n",
    "    return fibonacci_sequence\n",
    "\n",
    "\n",
    "n = 10\n",
    "print(fibonacci(n))"
   ]
  },
  {
   "cell_type": "markdown",
   "metadata": {},
   "source": [
    "# Question 2: List and Dictionary Comprehension\n",
    "\"\"\"\n",
    "Create a list of squares of numbers from 1 to 20 using list comprehension. Then, create\n",
    "a dictionary where the keys are numbers from 1 to 10, and the values are their cubes\n",
    "using dictionary comprehension.\n",
    "\"\"\""
   ]
  },
  {
   "cell_type": "code",
   "execution_count": null,
   "metadata": {},
   "outputs": [],
   "source": [
    "square_list = [i ** 2 for i in range(1, 21)]\n",
    "\n",
    "print(square_list)\n",
    "\n",
    "\n",
    "\n",
    "cubes_dictionary = {i: i ** 3 for i in range(1, 11)}\n",
    "\n",
    "print(cubes_dictionary)\n"
   ]
  },
  {
   "cell_type": "markdown",
   "metadata": {},
   "source": [
    "# Question 3: File Handling\n",
    "\"\"\"\n",
    "Write a Python script to create a CSV file named data.csv with three columns: Name,\n",
    "Age, and Score. Write at least five rows of data, then read the file and print the rows\n",
    "where the score is above 75\n",
    "\"\"\""
   ]
  },
  {
   "cell_type": "code",
   "execution_count": null,
   "metadata": {},
   "outputs": [],
   "source": [
    "import csv\n",
    "\n",
    "\n",
    "file_name = 'data.csv'\n",
    "data = [\n",
    "    [\"Name\", \"Age\", \"Score\"],\n",
    "    [\"Ahana\", 23, 88],\n",
    "    [\"Bobby\", 30, 72],\n",
    "    [\"Chahat\", 25, 95],\n",
    "    [\"Dixant\", 29, 65],\n",
    "    [\"Era\", 22, 80]\n",
    "]\n",
    "with open(file_name, mode='w', newline='') as file:\n",
    "    writer = csv.writer(file)\n",
    "    writer.writerows(data)\n",
    "\n",
    "print(\"Rows with a score above 75:\")\n",
    "with open(file_name, mode='r') as file:\n",
    "    reader = csv.reader(file)\n",
    "    header = next(reader)  \n",
    "    for row in reader:\n",
    "        if int(row[2]) > 75:\n",
    "            print(row)"
   ]
  },
  {
   "cell_type": "markdown",
   "metadata": {},
   "source": [
    "# Question 4: Array Operations\n",
    "    \"\"\"\n",
    "Create a 1D NumPy array of 25 random integers between 10 and 100. Perform the\n",
    "following:\n",
    "• Find the maximum, minimum, and their indices.\n",
    "• Replace all odd numbers in the array with\n",
    "\"\"\""
   ]
  },
  {
   "cell_type": "code",
   "execution_count": null,
   "metadata": {},
   "outputs": [],
   "source": [
    "import random\n",
    "\n",
    "\n",
    "arr = [random.randint(10, 100) for _ in range(25)]\n",
    "print(\"Original Array:\")\n",
    "print(arr)\n",
    "\n",
    "max_val = max(arr)\n",
    "min_val = min(arr)\n",
    "max_idx = arr.index(max_val)\n",
    "min_idx = arr.index(min_val)\n",
    "\n",
    "print(f\"\\nMaximum Value: {max_val} at Index {max_idx}\")\n",
    "print(f\"Minimum Value: {min_val} at Index {min_idx}\")\n",
    "\n",
    "arr = [-1 if x % 2 != 0 else x for x in arr]\n",
    "print(\"\\nArray after replacing odd numbers with -1:\")\n",
    "print(arr)"
   ]
  },
  {
   "cell_type": "markdown",
   "metadata": {},
   "source": [
    "# Question 5: Matrix Manipulation\n",
    "\"\"\"Create a 5x5 matrix with random numbers. Perform the following:\n",
    "• Extract the diagonal elements.\n",
    "• Calculate the sum of all elements above the main diagonal.\"\"\"\n",
    "\n",
    "\n"
   ]
  },
  {
   "cell_type": "code",
   "execution_count": null,
   "metadata": {},
   "outputs": [],
   "source": [
    "import random\n",
    "\n",
    "matrix = [[random.randint(1, 100) for _ in range(5)] for _ in range(5)]\n",
    "print(\"Original Matrix:\")\n",
    "for row in matrix:\n",
    "    print(row)\n",
    "\n",
    "\n",
    "diagonal_elements = [matrix[i][i] for i in range(5)]\n",
    "print(\"\\nDiagonal Elements:\")\n",
    "print(diagonal_elements)\n",
    "\n",
    "sum_above_diagonal = sum(matrix[i][j] for i in range(5) for j in range(5) if j > i)\n",
    "print(\"\\nSum of Elements of Diagonal:\")\n",
    "print(sum_above_diagonal)"
   ]
  },
  {
   "cell_type": "markdown",
   "metadata": {},
   "source": [
    "\n",
    "# Question 6: Statistical Functions\n",
    "\"\"\"Generate a 3D NumPy array of shape (3, 4, 5) with random floats. Perform the following:\n",
    "• Calculate the mean, median, and standard deviation of the entire array.\n",
    "• Normalize the array by subtracting the mean and dividing by the standard\n",
    "deviation.\"\"\""
   ]
  },
  {
   "cell_type": "code",
   "execution_count": null,
   "metadata": {},
   "outputs": [],
   "source": [
    "import numpy as np\n",
    "\n",
    "arr = np.random.rand(3, 4, 5)\n",
    "print(\"Original Array:\")\n",
    "print(arr)\n",
    "\n",
    "mean = np.mean(arr)\n",
    "median = np.median(arr)\n",
    "std_dev = np.std(arr)\n",
    "print(f\"\\nMean: {mean}, Median: {median}, Standard Deviation: {std_dev}\")\n",
    "\n",
    "normalized_arr = (arr - mean) / std_dev\n",
    "print(\"\\nNormalized Array:\")\n",
    "print(normalized_arr)"
   ]
  },
  {
   "cell_type": "markdown",
   "metadata": {},
   "source": [
    "# Question 7: Broadcasting and Indexing\n",
    "\"\"\"Create two 2D arrays of shape (4, 4) and (4, 1). Use broadcasting to add these arrays\n",
    "element-wise and display the result.\"\"\""
   ]
  },
  {
   "cell_type": "code",
   "execution_count": null,
   "metadata": {},
   "outputs": [],
   "source": [
    "import numpy as np\n",
    "\n",
    "arr1 = np.arange(16).reshape(4, 4)\n",
    "arr2 = np.arange(4).reshape(4, 1)\n",
    "\n",
    "print(\"Array 1:\\n\")\n",
    "print(arr1)\n",
    "print(\"Array 2:\\n\")\n",
    "print(arr2)\n",
    "\n",
    "\n",
    "result = arr1 + arr2\n",
    "\n",
    "print(\"Result of Element-wise Addition:\")\n",
    "print(result)"
   ]
  },
  {
   "cell_type": "markdown",
   "metadata": {},
   "source": [
    "# Question 8: DataFrame Creation and Basic Operations\n",
    "\"\"\"Create a Pandas DataFrame with three columns: Product, Price, and Quantity. Populate\n",
    "it with at least 8 rows. Perform the following:\n",
    "• Calculate the total value for each product (Price × Quantity).\n",
    "• Add a new column for the total value and sort the DataFrame by this column\"\"\"\n"
   ]
  },
  {
   "cell_type": "code",
   "execution_count": null,
   "metadata": {},
   "outputs": [],
   "source": [
    "import pandas as pd\n",
    "\n",
    "data = {\n",
    "    \"Product\": [\"Product A\", \"Product B\", \"Product C\", \"Product D\", \"Product E\", \"Product F\", \"Product G\", \"Product H\"],\n",
    "    \"Price\": [10.99, 9.99, 12.99, 7.99, 11.99, 8.99, 13.99, 14.99],\n",
    "    \"Quantity\": [5, 10, 7, 3, 8, 4, 6, 9]\n",
    "}\n",
    "df = pd.DataFrame(data)\n",
    "\n",
    "print(\"Original DataFrame:\")\n",
    "print(df)\n",
    "\n",
    "df[\"Total Value\"] = df[\"Price\"] * df[\"Quantity\"]\n",
    "\n",
    "df_sorted = df.sort_values(by=\"Total Value\", ascending=False)\n",
    "\n",
    "print(\"\\nDataFrame Sorted by Total Value:\")\n",
    "print(df_sorted)\n"
   ]
  },
  {
   "cell_type": "markdown",
   "metadata": {},
   "source": [
    "# Question 9: Data Filtering\n",
    "\"\"\"Load the Titanic dataset from the Kaggle Titanic dataset or any publicly available\n",
    "source. Filter and display rows where:\n",
    "• The passenger age is below 18.\n",
    "• The passenger is female and survived.\"\"\"\n"
   ]
  },
  {
   "cell_type": "code",
   "execution_count": null,
   "metadata": {},
   "outputs": [],
   "source": [
    "import pandas as pd\n",
    "\n",
    "\n",
    "url = '(link unavailable)'\n",
    "df = pd.read_csv(url)\n",
    "\n",
    "df_under_18 = df[df['Age'] < 18]\n",
    "print(\"Passengers under 18:\")\n",
    "print(df_under_18.head())\n",
    "\n",
    "df_female_survived = df[(df['Sex'] == 'female') & (df['Survived'] == 1)]\n",
    "print(\"\\nFemale passengers who survived:\")\n",
    "print(df_female_survived.head())\n"
   ]
  },
  {
   "cell_type": "markdown",
   "metadata": {},
   "source": [
    "# Question10: Groupby Operations\n",
    "\n",
    "\"\"\"Load the Iris dataset from Seaborn library or any other source like Kaggle, etc. Group the\n",
    "data by species and calculate the mean of petal length and sepal width for each group.\"\"\"\n",
    "\n"
   ]
  },
  {
   "cell_type": "code",
   "execution_count": null,
   "metadata": {},
   "outputs": [],
   "source": [
    "import seaborn as sns\n",
    "import pandas as pd\n",
    "\n",
    "iris = sns.load_dataset(\"iris\")\n",
    "\n",
    "\n",
    "grouped_data = iris.groupby(\"species\")[[\"petal_length\", \"sepal_width\"]].mean().reset_index()\n",
    "\n",
    "grouped_data.columns = [\"Species\", \"Mean Petal Length\", \"Mean Sepal Width\"]\n",
    "\n",
    "print(grouped_data)"
   ]
  },
  {
   "cell_type": "markdown",
   "metadata": {},
   "source": [
    "# Question 11: Handling Missing Values\n",
    "\"\"\"Create a Pandas DataFrame with random data and intentionally introduce NaN values.\n",
    "Replace the NaN values with the column mean and display the updated DataFrame\"\"\"\n",
    "\n"
   ]
  },
  {
   "cell_type": "code",
   "execution_count": null,
   "metadata": {},
   "outputs": [],
   "source": [
    "import pandas as pd\n",
    "import numpy as np\n",
    "\n",
    "\n",
    "np.random.seed(0)\n",
    "data = np.random.randint(1, 100, size=(5, 3))\n",
    "df = pd.DataFrame(data, columns=['A', 'B', 'C'])\n",
    "\n",
    "\n",
    "df.loc[1, 'A'] = np.nan\n",
    "df.loc[2, 'B'] = np.nan\n",
    "df.loc[3, 'C'] = np.nan\n",
    "\n",
    "print(\"Original DataFrame:\")\n",
    "print(df)\n",
    "\n",
    "df_filled = df.fillna(df.mean())\n",
    "\n",
    "print(\"\\nUpdated DataFrame with NaN replaced by column mean:\")\n",
    "print(df_filled)"
   ]
  },
  {
   "cell_type": "markdown",
   "metadata": {},
   "source": [
    "# Question 12: Merging DataFrames\n",
    "\"\"\"Create two DataFrames: one with columns ID and Name, and another with columns ID\n",
    "and Score. Merge the two DataFrames on the ID column and display the resulting\n",
    "DataFrame.\"\"\"\n"
   ]
  },
  {
   "cell_type": "code",
   "execution_count": null,
   "metadata": {},
   "outputs": [],
   "source": [
    "import pandas as pd\n",
    "\n",
    "\n",
    "data1 = {\n",
    "    \"ID\": [1, 2, 3, 4, 5],\n",
    "    \"Name\": [\"Riya\", \"Ananya\", \"Priya\", \"Ladli\", \"Tanvi\"]\n",
    "}\n",
    "df1 = pd.DataFrame(data1)\n",
    "\n",
    "\n",
    "data2 = {\n",
    "    \"ID\": [1, 2, 3, 4, 5],\n",
    "    \"Score\": [93, 87, 80, 91, 79]\n",
    "}\n",
    "df2 = pd.DataFrame(data2)\n",
    "\n",
    "print(\"DataFrame 1:\")\n",
    "print(df1)\n",
    "print(\"\\nDataFrame 2:\")\n",
    "print(df2)\n",
    "\n",
    "\n",
    "df_merged = pd.merge(df1, df2, on=\"ID\")\n",
    "\n",
    "print(\"\\nMerged DataFrame:\")\n",
    "print(df_merged)"
   ]
  },
  {
   "cell_type": "markdown",
   "metadata": {},
   "source": [
    "# Question 13: Line Plot\n",
    "\"\"\"Generate a random dataset representing the monthly revenue of a company. Plot a line\n",
    "graph to show the trend, and customize it with:\n",
    "• A title, labeled axes, and a legend.\"\"\"\n"
   ]
  },
  {
   "cell_type": "code",
   "execution_count": null,
   "metadata": {},
   "outputs": [],
   "source": [
    "import matplotlib.pyplot as plt\n",
    "import numpy as np\n",
    "import pandas as pd\n",
    "\n",
    "\n",
    "np.random.seed(0)\n",
    "months = ['Jan', 'Feb', 'Mar', 'Apr', 'May', 'Jun', 'Jul', 'Aug', 'Sep', 'Oct', 'Nov', 'Dec']\n",
    "revenue = np.random.randint(50000, 150000, size=12)\n",
    "data = pd.DataFrame({'Month': months, 'Revenue': revenue})\n",
    "\n",
    "plt.figure(figsize=(10, 6))\n",
    "plt.plot(data['Month'], data['Revenue'], marker='o')\n",
    "\n",
    "plt.title('Monthly Revenue Trend')\n",
    "plt.xlabel('Month')\n",
    "plt.ylabel('Revenue ($)')\n",
    "plt.grid(True)\n",
    "plt.legend(['Revenue'])\n",
    "\n",
    "plt.show()"
   ]
  },
  {
   "cell_type": "markdown",
   "metadata": {},
   "source": [
    "# Question 14: Bar Plot\n",
    "\"\"\"Create a dataset representing the sales of five products in two different regions. Use a\n",
    "grouped bar chart to display the comparison between the regions for each product.\n",
    "Ensure that the plot is customized with:\n",
    "• A title, labeled axes, and a legend.\"\"\"\n"
   ]
  },
  {
   "cell_type": "code",
   "execution_count": null,
   "metadata": {},
   "outputs": [],
   "source": [
    "import matplotlib.pyplot as plt\n",
    "import numpy as np\n",
    "\n",
    "products = ['Product A', 'Product B', 'Product C', 'Product D', 'Product E']\n",
    "region1_sales = np.random.randint(100, 500, size=5)\n",
    "region2_sales = np.random.randint(100, 500, size=5)\n",
    "\n",
    "bar_width = 0.35\n",
    "x = np.arange(len(products))\n",
    "fig, ax = plt.subplots(figsize=(10, 6))\n",
    "ax.bar(x - bar_width/2, region1_sales, bar_width, label='Region 1')\n",
    "ax.bar(x + bar_width/2, region2_sales, bar_width, label='Region 2')\n",
    "\n",
    "ax.set_title('Product Sales Comparison by Region')\n",
    "ax.set_xlabel('Product')\n",
    "ax.set_ylabel('Sales')\n",
    "ax.set_xticks(x)\n",
    "ax.set_xticklabels(products)\n",
    "ax.legend()"
   ]
  },
  {
   "cell_type": "markdown",
   "metadata": {},
   "source": [
    "# Show the plot\n",
    "\"\"\"plt.show()\n",
    "\n",
    "Question 15: Scatter Plot\n",
    "Load the Iris dataset from Seaborn library or any other source like Kaggle, etc. Create a\n",
    "scatter plot comparing any two features of the flowers (e.g., petal length vs petal width,\n",
    "sepal length vs sepal width). Customize the plot to use different colors for each species\n",
    "and add labels and a title.\"\"\"\n",
    "\n"
   ]
  },
  {
   "cell_type": "code",
   "execution_count": null,
   "metadata": {},
   "outputs": [],
   "source": [
    "import seaborn as sns\n",
    "import matplotlib.pyplot as plt\n",
    "\n",
    "iris = sns.load_dataset(\"iris\")\n",
    "\n",
    "plt.figure(figsize=(8, 6))\n",
    "sns.scatterplot(x=\"petal_length\", y=\"petal_width\", hue=\"species\", data=iris)\n",
    "\n",
    "plt.title('Petal Length vs Petal Width')\n",
    "plt.xlabel('Petal Length (cm)')\n",
    "plt.ylabel('Petal Width (cm)')\n",
    "\n",
    "\n",
    "plt.show()\n",
    "\n"
   ]
  }
 ],
 "metadata": {
  "kernelspec": {
   "display_name": "Python 3",
   "language": "python",
   "name": "python3"
  },
  "language_info": {
   "name": "python",
   "version": "3.13.1"
  }
 },
 "nbformat": 4,
 "nbformat_minor": 2
}
